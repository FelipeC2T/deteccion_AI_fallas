{
 "cells": [
  {
   "cell_type": "markdown",
   "metadata": {},
   "source": [
    "# Data generator\n",
    "\n",
    "This is a copy of `utils.py` to understand and possibly polish for readability.\n",
    "\n",
    "This [blog][blog] seems to be the source from where the author wrote the custom data generator.\n",
    "\n",
    "Check the [tensorflow][tf] explanation and related links.\n",
    "\n",
    "\n",
    "\n",
    "[tf]: https://www.tensorflow.org/guide/keras/train_and_evaluate\n",
    "[blog]: https://stanford.edu/~shervine/blog/keras-how-to-generate-data-on-the-fly"
   ]
  },
  {
   "cell_type": "code",
   "execution_count": 1,
   "metadata": {},
   "outputs": [],
   "source": [
    "import tensorflow as tf"
   ]
  },
  {
   "cell_type": "code",
   "execution_count": 2,
   "metadata": {},
   "outputs": [],
   "source": [
    "import numpy as np\n",
    "import matplotlib.pyplot as plt\n",
    "import random"
   ]
  },
  {
   "cell_type": "code",
   "execution_count": 3,
   "metadata": {},
   "outputs": [],
   "source": [
    "import sys # to load custom python code\n",
    "sys.path.append('D:\\\\Tesis\\\\Source')\n",
    "from patchProcessAssemble import Normalize\n",
    "from visualize import vol"
   ]
  },
  {
   "cell_type": "code",
   "execution_count": 4,
   "metadata": {
    "code_folding": [
     0
    ]
   },
   "outputs": [],
   "source": [
    "def view(img):\n",
    "    \n",
    "    n1, n2, n3 = np.shape(img)\n",
    "    \n",
    "    plt.figure(1,figsize=(15,5))\n",
    "    plt.subplot(1,3,1)\n",
    "    plt.title(\"n1/n2\")\n",
    "    plt.imshow(img[:,:,n3//2],origin=\"upper\", cmap=\"bone\")\n",
    "    plt.subplot(1,3,2)\n",
    "    plt.title(\"n1/n3\")\n",
    "    plt.imshow(img[:,n2//2,:],origin=\"upper\",cmap=\"bone\")\n",
    "    plt.subplot(1,3,3)\n",
    "    plt.title(\"n2/n3\")\n",
    "    plt.imshow(img[n1//2,:,:],origin=\"upper\",cmap=\"bone\")\n",
    "    plt.show()\n",
    "\n",
    "    return None"
   ]
  },
  {
   "cell_type": "code",
   "execution_count": 5,
   "metadata": {
    "code_folding": [
     0,
     2,
     14,
     18,
     32,
     38
    ]
   },
   "outputs": [],
   "source": [
    "class DataGenerator(tf.keras.utils.Sequence):\n",
    "    'Generates data for keras'\n",
    "    def __init__(self,dpath,fpath,data_IDs, batch_size=1, dim=(128,128,128), \n",
    "                 n_channels=1, shuffle=True):\n",
    "        'Initialization'\n",
    "        self.dim   = dim\n",
    "        self.dpath = dpath\n",
    "        self.fpath = fpath\n",
    "        self.batch_size = batch_size\n",
    "        self.data_IDs   = data_IDs\n",
    "        self.n_channels = n_channels\n",
    "        self.shuffle    = shuffle\n",
    "        self.on_epoch_end()\n",
    "\n",
    "    def __len__(self):\n",
    "        'Denotes the number of batches per epoch'\n",
    "        return int(np.floor(len(self.data_IDs)/self.batch_size))\n",
    "\n",
    "    def __getitem__(self, index):\n",
    "        'Generates one batch of data'\n",
    "        # Generate indexes of the batch\n",
    "        bsize   = self.batch_size\n",
    "        indexes = self.indexes[index*bsize:(index+1)*bsize]\n",
    "\n",
    "        # Find list of IDs\n",
    "        data_IDs_temp = [self.data_IDs[k] for k in indexes]\n",
    "\n",
    "        # Generate data\n",
    "        X, Y = self.__data_generation(data_IDs_temp)\n",
    "\n",
    "        return X, Y\n",
    "\n",
    "    def on_epoch_end(self):\n",
    "        'Updates indexes after each epoch'\n",
    "        self.indexes = np.arange(len(self.data_IDs))\n",
    "        if self.shuffle == True:\n",
    "              np.random.shuffle(self.indexes)\n",
    "\n",
    "    def __data_generation(self, data_IDs_temp):\n",
    "        'Generates data containing batch_size samples'\n",
    "        # Initialization\n",
    "        # JLG: data stream is read:\n",
    "        gx  = np.fromfile(self.dpath+str(data_IDs_temp[0])+'.dat',dtype=np.single)\n",
    "        fx  = np.fromfile(self.fpath+str(data_IDs_temp[0])+'.dat',dtype=np.single)\n",
    "        # JLG: data is shaped into a cube\n",
    "        gx = np.reshape(gx,self.dim)\n",
    "        fx = np.reshape(fx,self.dim)\n",
    "        # JLG: why this normalization was applied and discarded?\n",
    "        #gmin = np.min(gx)\n",
    "        #gmax = np.max(gx)\n",
    "        #gx = gx-gmin\n",
    "        #gx = gx/(gmax-gmin)\n",
    "        #gx = gx*255\n",
    "        # JLG: data is whitened (normalized):\n",
    "#       xm = np.mean(gx)\n",
    "#       xs = np.std(gx)\n",
    "#       gx = gx-xm\n",
    "#       gx = gx/xs\n",
    "        gx = Normalize(gx)\n",
    "        # JLG: data is transposed to conform with (time,x,y); meaning that the original input is (x,y,time).\n",
    "        gx = np.transpose(gx)\n",
    "        fx = np.transpose(fx)\n",
    "        #in seismic processing, the dimensions of a seismic array is often arranged as\n",
    "        #a[n3][n2][n1] where n1 represnts the vertical dimenstion. This is why we need \n",
    "        #to transpose the array here in python \n",
    "        # Generate data\n",
    "        X = np.zeros((2, *self.dim, self.n_channels),dtype=np.single) # JLG: e.g., X is (2,128x128x128,1)\n",
    "        Y = np.zeros((2, *self.dim, self.n_channels),dtype=np.single)\n",
    "        X[0,] = np.reshape(gx, (*self.dim,self.n_channels))  # JLG: the original `image`\n",
    "        Y[0,] = np.reshape(fx, (*self.dim,self.n_channels))  \n",
    "        X[1,] = np.reshape(np.flipud(gx), (*self.dim,self.n_channels)) # JLG: upside down\n",
    "        Y[1,] = np.reshape(np.flipud(fx), (*self.dim,self.n_channels))  \n",
    "        ## JLG: the following should go with\n",
    "        # X = np.zeros((4, *self.dim, self.n_channels),dtype=np.single) \n",
    "        # Y = np.zeros((4, *self.dim, self.n_channels),dtype=np.single)\n",
    "        '''\n",
    "        for i in range(4):\n",
    "            X[i,] = np.reshape(np.rot90(gx,i,(2,1)), (*self.dim,self.n_channels))\n",
    "            Y[i,] = np.reshape(np.rot90(fx,i,(2,1)), (*self.dim,self.n_channels))  \n",
    "        '''\n",
    "        return X,Y"
   ]
  },
  {
   "cell_type": "markdown",
   "metadata": {},
   "source": [
    "### Checking the custom data generator"
   ]
  },
  {
   "cell_type": "code",
   "execution_count": 6,
   "metadata": {
    "code_folding": []
   },
   "outputs": [],
   "source": [
    "# Parameters\n",
    "\n",
    "seismPathT = \"D:\\\\Tesis\\\\faultSeg-master\\\\data\\\\train\\\\seis\\\\\"\n",
    "faultPathT = \"D:\\\\Tesis\\\\faultSeg-master\\\\data\\\\train\\\\fault\\\\\"\n",
    "\n",
    "params = {'batch_size':1,\n",
    "          'dim':(128,128,128),\n",
    "          'n_channels':1,\n",
    "          'shuffle': True}\n",
    "\n",
    "\n",
    "# Take 10 synthetic cubes and 10 fault probabilities \"    \n",
    "train_ID   = range(10) "
   ]
  },
  {
   "cell_type": "code",
   "execution_count": 7,
   "metadata": {},
   "outputs": [],
   "source": [
    "train_generator = DataGenerator(dpath    = seismPathT,\n",
    "                                fpath    = faultPathT,\n",
    "                                data_IDs = train_ID,\n",
    "                                **params)"
   ]
  },
  {
   "cell_type": "code",
   "execution_count": 8,
   "metadata": {},
   "outputs": [
    {
     "name": "stdout",
     "output_type": "stream",
     "text": [
      "(2, 128, 128, 128, 1)\n",
      "(2, 128, 128, 128, 1)\n"
     ]
    }
   ],
   "source": [
    "# Take one item of the dataset (one item is one batch)\n",
    "X, Y  = train_generator.__getitem__(0)\n",
    "print(X.shape)\n",
    "print(Y.shape)"
   ]
  },
  {
   "cell_type": "code",
   "execution_count": 9,
   "metadata": {
    "code_folding": [
     1
    ]
   },
   "outputs": [
    {
     "data": {
      "image/png": "[encoded data removed]",
      "text/plain": [
       "<Figure size 432x288 with 2 Axes>"
      ]
     },
     "metadata": {
      "needs_background": "light"
     },
     "output_type": "display_data"
    },
    {
     "data": {
      "image/png": "[encoded data removed]",
      "text/plain": [
       "<Figure size 432x288 with 2 Axes>"
      ]
     },
     "metadata": {
      "needs_background": "light"
     },
     "output_type": "display_data"
    }
   ],
   "source": [
    "# Visualize mini batch (one \"item\" of the data generator)\n",
    "for i in np.arange(X.shape[0]):\n",
    "    plt.figure()\n",
    "    plt.subplot(1,2,1)\n",
    "    plt.title(\"X (time slice)\")\n",
    "    plt.imshow(X[i,0,:,:,-1],cmap=\"gray\")\n",
    "    plt.subplot(1,2,2)\n",
    "    plt.title(\"Y (time slice)\")\n",
    "    plt.imshow(Y[i,0,:,:,-1],cmap=\"bone\")\n",
    "    plt.show()"
   ]
  },
  {
   "cell_type": "code",
   "execution_count": 12,
   "metadata": {
    "code_folding": [
     0
    ]
   },
   "outputs": [
    {
     "ename": "SyntaxError",
     "evalue": "invalid syntax (<ipython-input-12-0ce37970689a>, line 4)",
     "output_type": "error",
     "traceback": [
      "\u001b[1;36m  File \u001b[1;32m\"<ipython-input-12-0ce37970689a>\"\u001b[1;36m, line \u001b[1;32m4\u001b[0m\n\u001b[1;33m    fig.savefig(\"D:\\\\Tesis\\\\cubo1.pdf\", bbox_inches='tight')\u001b[0m\n\u001b[1;37m    ^\u001b[0m\n\u001b[1;31mSyntaxError\u001b[0m\u001b[1;31m:\u001b[0m invalid syntax\n"
     ]
    }
   ],
   "source": [
    "# Visualize 3D\n",
    "fig=plt.figure()\n",
    "vol(X[i,...,0])\n",
    "fig.savefig(\"D:\\\\Tesis\\\\cubo1.pdf\", bbox_inches='tight')\n",
    "\n",
    "fig2=plt.figure()\n",
    "\n",
    "vol(Y[i,...,0])\n",
    "fig2.savefig(\"D:\\\\Tesis\\\\cubofallas.pdf\", bbox_inches='tight')\n",
    "\n",
    "plt.show()\n"
   ]
  },
  {
   "cell_type": "markdown",
   "metadata": {},
   "source": [
    "**Example**. The seismic  cube `gx` is `128x128x128` samples and its data tensor `X` is `(2,128x128x128,1)` when the effective batch size is `2` and there is `1`  channel. \n",
    "\n",
    "### Notes\n",
    "\n",
    "* Note that the batch size is given by `batch_size=1` in `training.py`, but the autor creates 2 or 4 samples if rotations are applied as **data augmentation**:\n",
    "\n",
    "        We feed the 3D seismic images to the neural network in batches\n",
    "        and each batch contains four images, which consist of an\n",
    "        original image and the same image rotated\n",
    "        around the vertical time/depth axis by 90°, 180°, and 270°\n",
    "\n",
    "\n",
    "* In the last lines of the above cell (61-end) we see the author only uses one rotation, given by `np.flipud`. This is flipping the first dimension of the array (see `? np.flipud`), which is the vertical dimension (time or depth) after transposition. This is like `gx[::-1,...]`, meaning the cube is turned upside down.\n",
    "\n",
    "* `np.rot90(gx,i,axes=(2,1))` rotates by 90 degrees a number of `i` times in the plane defined by the axes (2,1), which should be the  inline/crossline or x-y plane. The rotation is  from the first axis (here, `2`) towards the second axis (here, `1`) ; see `?np.rot90`."
   ]
  },
  {
   "cell_type": "code",
   "execution_count": null,
   "metadata": {},
   "outputs": [],
   "source": [
    "#?np.flipud"
   ]
  },
  {
   "cell_type": "code",
   "execution_count": null,
   "metadata": {},
   "outputs": [],
   "source": [
    "#?np.rot90"
   ]
  },
  {
   "cell_type": "code",
   "execution_count": null,
   "metadata": {
    "code_folding": [
     0
    ]
   },
   "outputs": [],
   "source": [
    "# class imbalance:\n",
    "minibatch_size, n1, n2, n3, channels, = np.shape(X)\n",
    "total_samples = n1*n2*n3\n",
    "fault_samples = np.sum(Y,dtype=\"int\") # np.count_nonzero(Y)\n",
    "fault_percentage = np.round(100. * fault_samples / total_samples,1)\n",
    "print(\"Number of samples of one cube: \", total_samples)\n",
    "print(\"Number of fault samples (val=1) of one cube: \", fault_samples)\n",
    "print(\"Percentage of fault samples over total samples: \", fault_percentage)\n",
    "print(\"Percentage of non fault samples over total samples: \", 100. - fault_percentage)"
   ]
  },
  {
   "cell_type": "markdown",
   "metadata": {},
   "source": [
    "### Example of reading  one data sample"
   ]
  },
  {
   "cell_type": "code",
   "execution_count": null,
   "metadata": {},
   "outputs": [],
   "source": [
    "n1,n2,n3   = 128,128,128\n",
    "n_channels = 1"
   ]
  },
  {
   "cell_type": "code",
   "execution_count": null,
   "metadata": {},
   "outputs": [],
   "source": [
    "gx = np.fromfile(\"D:\\\\Tesis\\\\faultSeg-master\\\\data\\\\train\\\\seis\\\\0.dat\",dtype=np.single); # If dtype is not np.single, I cannot reshape into n1xn2xn3\n",
    "print(\"data read (with type single) from file  has shape:\", gx.shape)\n",
    "gx = np.reshape(gx, (n1,n2,n3));\n",
    "print(\"reshaped data is:\", gx.shape, \", that is \", n1*n2*n3, \" samples.\") "
   ]
  },
  {
   "cell_type": "code",
   "execution_count": null,
   "metadata": {
    "code_folding": [
     0
    ]
   },
   "outputs": [],
   "source": [
    "view(gx)\n",
    "print(\"data seems to be (x,y,z)\")\n",
    "view(np.transpose(gx))\n",
    "print(\"transposed data seems to be (z,y,x)\")"
   ]
  },
  {
   "cell_type": "markdown",
   "metadata": {},
   "source": [
    "Let's see the data tensor `X`:"
   ]
  },
  {
   "cell_type": "code",
   "execution_count": null,
   "metadata": {
    "code_folding": []
   },
   "outputs": [],
   "source": [
    "# Generate data\n",
    "# Normalize the data and bring vertical dimension first\n",
    "gx  = Normalize(gx)\n",
    "gxt = np.transpose(gx)\n",
    "# Get space for batch:\n",
    "X = np.zeros((2, n1,n2,n3, n_channels),dtype=np.single) # JLG: e.g., X is (2,128x128x128,1)\n",
    "# Populate batch:\n",
    "X[0,] = np.reshape(gxt, (n1,n2,n3,n_channels))  # JLG: the original `image`\n",
    "X[1,] = np.reshape(np.flipud(gxt), (n1,n2,n3,n_channels)) # JLG: upside down\n",
    "print(\"Batch tensor is: \",X.shape)\n",
    "for i in range(2):\n",
    "    #view(X[i,].squeeze())  # squeeze gets rid of the dimension of channels = 1\n",
    "    # this is similar to\n",
    "    view(X[i,...,-1])"
   ]
  },
  {
   "cell_type": "code",
   "execution_count": null,
   "metadata": {
    "code_folding": [
     0
    ]
   },
   "outputs": [],
   "source": [
    "# 3D View:\n",
    "plt.figure()\n",
    "for i in range(X.shape[0]):\n",
    "    vol(X[i,...,0].T) # .T to put the time axis in the vertical for display\n",
    "plt.show()"
   ]
  },
  {
   "cell_type": "markdown",
   "metadata": {},
   "source": [
    "Test **data augmentation** (original data plus three 90 degree rotations around the vertical axis):"
   ]
  },
  {
   "cell_type": "code",
   "execution_count": null,
   "metadata": {},
   "outputs": [],
   "source": [
    "X = np.zeros((4, n1,n2,n3, n_channels),dtype=np.single) \n"
   ]
  },
  {
   "cell_type": "code",
   "execution_count": null,
   "metadata": {},
   "outputs": [],
   "source": [
    "np.shape(X)"
   ]
  },
  {
   "cell_type": "code",
   "execution_count": null,
   "metadata": {},
   "outputs": [],
   "source": [
    "X = np.zeros((4, n1,n2,n3, n_channels),dtype=np.single) \n",
    "\n",
    "print(\"Batch tensor is: \",X.shape)\n",
    "\n",
    "for i in range(4):\n",
    "    X[i,] = np.reshape(np.rot90(gxt,i,(2,1)), (n1,n2,n3,n_channels))\n",
    "        \n",
    "# View:\n",
    "for i in range(4):\n",
    "    view(X[i,...,0])"
   ]
  },
  {
   "cell_type": "code",
   "execution_count": null,
   "metadata": {
    "code_folding": []
   },
   "outputs": [],
   "source": [
    "# 3D View:\n",
    "plt.figure()\n",
    "for i in range(X.shape[0]):\n",
    "    vol(X[i,...,0].T) # .T to put the time axis in the vertical for display\n",
    "plt.show()"
   ]
  },
  {
   "cell_type": "markdown",
   "metadata": {},
   "source": [
    "# Extra: Class imbalance\n",
    "\n",
    "The number of fault samples in each training cube is - on average - only 7% of the total."
   ]
  },
  {
   "cell_type": "code",
   "execution_count": null,
   "metadata": {},
   "outputs": [],
   "source": [
    "filename = range(200)\n",
    "fpath    = faultPathT"
   ]
  },
  {
   "cell_type": "code",
   "execution_count": null,
   "metadata": {},
   "outputs": [],
   "source": [
    "fault_percentage = []\n",
    "for name in filename:\n",
    "    file = fpath+str(filename[name])+'.dat'\n",
    "    #print(file)\n",
    "    fx  = np.fromfile(file,dtype=np.single)    \n",
    "    fault_percentage.append(np.count_nonzero(fx))\n",
    "print(\"Done.\")\n",
    "fault_percentage = np.array(fault_percentage)\n",
    "fault_percentage = 100 * fault_percentage / (n1*n2*n3)"
   ]
  },
  {
   "cell_type": "code",
   "execution_count": null,
   "metadata": {},
   "outputs": [],
   "source": [
    "print(\"Average of fault samples in the training set (percentage): \", np.round(np.mean(fault_percentage),2))\n",
    "print(\"Median of fault samples in the training set (percentage) : \", np.round(np.median(fault_percentage),2))"
   ]
  },
  {
   "cell_type": "code",
   "execution_count": null,
   "metadata": {},
   "outputs": [],
   "source": [
    "avrg=np.round(np.mean(fault_percentage),2)\n",
    "nonfault=100-avrg\n",
    "etiquetas=[\"No Fallas\",\"Fallas\"]\n",
    "valores=[nonfault,avrg]\n",
    "plt.bar(etiquetas,valores,color=\"green\")\n",
    "plt.ylim([0,100])\n",
    "plt.ylabel(\"Porcentaje de pixeles, Set Entrenamiento\")\n",
    "plt.savefig(\"D:\\\\Tesis\\\\Bibliografia\\\\Tesis_Imagenes\\\\classimbalanced2.jpg\")"
   ]
  },
  {
   "cell_type": "code",
   "execution_count": null,
   "metadata": {},
   "outputs": [],
   "source": [
    "fig=plt.figure(figsize=(10,5))\n",
    "plt.bar(filename,fault_percentage,color=\"gray\")\n",
    "plt.plot([np.mean(fault_percentage)]*len(filename),color=\"orange\",alpha=0.4,lw=4)\n",
    "plt.plot([np.median(fault_percentage)]*len(filename),color=\"red\",alpha=0.4,lw=4)\n",
    "plt.ylabel(\"Fault samples / total (training) [%]\")\n",
    "plt.xlabel(\"Example #\")\n",
    "#fig.savefig(\"D:\\\\Tesis\\\\Notebooks_JLG\\\\checkpoints\\\\classimbalanced.pdf\",bbox_inches='tight')\n",
    "plt.show()"
   ]
  },
  {
   "cell_type": "markdown",
   "metadata": {},
   "source": [
    "# A custom iterator for using a custom training loop\n",
    "\n",
    "\n",
    "If we choose to use `tensorflow` with our custom training loop and data generator, we can simplify things a lot. "
   ]
  },
  {
   "cell_type": "code",
   "execution_count": null,
   "metadata": {
    "code_folding": [
     0
    ]
   },
   "outputs": [],
   "source": [
    "# def Normalize(x):\n",
    "#     # see tf.image.per_image_standardization\n",
    "#     N      = len(x)\n",
    "#     mean   = np.mean(x)\n",
    "#     stddev = np.std(x)\n",
    "#     stddev = np.maximum(stddev, 1.0/np.sqrt(N)) # protect againts division by zero\n",
    "#     return (x - mean) / stddev # "
   ]
  },
  {
   "cell_type": "code",
   "execution_count": null,
   "metadata": {
    "code_folding": [
     0
    ]
   },
   "outputs": [],
   "source": [
    "def DataGeneration(filename,dim=(128,128,128),n_channels=1):    \n",
    "        \n",
    "        'Generates data containing batch_size samples'\n",
    "        # Initialization\n",
    "        # JLG: data stream is read:\n",
    "        print(x_path+str(filename)+'.dat')\n",
    "        print(y_path+str(filename)+'.dat')\n",
    "        \n",
    "        gx  = np.fromfile(x_path+str(filename)+'.dat',dtype=np.single)\n",
    "        fx  = np.fromfile(y_path+str(filename)+'.dat',dtype=np.single)\n",
    "        \n",
    "        # JLG: data is whitened (normalized):\n",
    "        gx = Normalize(gx)\n",
    "        \n",
    "        # JLG: data is shaped into a cube\n",
    "        gx = np.reshape(gx,dim)\n",
    "        fx = np.reshape(fx,dim)\n",
    "        \n",
    "        # JLG: data is transposed to conform with (time,x,y); meaning that the original input is (x,y,time).\n",
    "        gx = np.transpose(gx)\n",
    "        fx = np.transpose(fx)\n",
    "        \n",
    "        # Generate data augmentation \n",
    "        X = np.zeros((2, *dim, n_channels),dtype=np.single) # JLG: e.g., X is (2,128x128x128,1)\n",
    "        Y = np.zeros((2, *dim, n_channels),dtype=np.single)\n",
    "        X[0,] = np.reshape(gx, (*dim,n_channels))  # JLG: the original `image`\n",
    "        Y[0,] = np.reshape(fx, (*dim,n_channels))  \n",
    "        X[1,] = np.reshape(np.flipud(gx), (*dim,n_channels)) # JLG: upside down\n",
    "        Y[1,] = np.reshape(np.flipud(fx), (*dim,n_channels))\n",
    "        #print(X.shape)\n",
    "        return [X,Y]"
   ]
  },
  {
   "cell_type": "code",
   "execution_count": null,
   "metadata": {},
   "outputs": [],
   "source": [
    "params = {'batch_size':3,\n",
    "          'dim':(128,128,128),\n",
    "          'n_channels':1,\n",
    "          'shuffle': True}\n",
    "\n",
    "x_path = \"../data/train/seis/\"\n",
    "y_path = \"../data/train/fault/\"\n",
    "\n",
    "\n",
    "# Take 10 synthetic cubes and 10 fault probabilities \"    \n",
    "filenames   = np.arange(200) \n",
    "np.random.shuffle(filenames)\n",
    "filenames   = filenames[:10]"
   ]
  },
  {
   "cell_type": "code",
   "execution_count": null,
   "metadata": {},
   "outputs": [],
   "source": [
    "filenames"
   ]
  },
  {
   "cell_type": "code",
   "execution_count": null,
   "metadata": {},
   "outputs": [],
   "source": [
    "bsize   = params[\"batch_size\"]\n",
    "\n",
    "# Generate data\n",
    "#np.random.shuffle(filenames)\n",
    "\n",
    "for epoch in range(2):\n",
    "    np.random.shuffle(filenames)\n",
    "    print(\"Epoch:\",epoch)\n",
    "    print(\"batch of files:\",filenames)\n",
    "    for k in range(10//bsize):    \n",
    "        indexes = filenames[k*bsize:(k+1)*bsize]\n",
    "        print(\"minibatch\",k,\"=> Files: \",indexes)\n",
    "        for indx in indexes:\n",
    "            X, Y = DataGeneration(indx)\n",
    "    \n",
    "    "
   ]
  },
  {
   "cell_type": "markdown",
   "metadata": {},
   "source": [
    "A custom training loop:"
   ]
  },
  {
   "cell_type": "code",
   "execution_count": null,
   "metadata": {
    "code_folding": [
     0
    ]
   },
   "outputs": [],
   "source": [
    "# Custom training loop\n",
    "N_train = 10\n",
    "EPOCHS  = 2\n",
    "batch_size = params[\"batch_size\"]\n",
    "\n",
    "# Take N_train synthetic cubes and its N_train fault probabilities \"    \n",
    "filenames   = np.arange(200) \n",
    "np.random.shuffle(filenames)\n",
    "filenames   = filenames[:N_train]\n",
    "\n",
    "batch_list = filenames\n",
    "\n",
    "loss_value = 0.\n",
    "for epoch in range(EPOCHS):\n",
    "    \n",
    "    print(\"This is epoch %d/%d ==========================\"\n",
    "          %(epoch+1,EPOCHS))\n",
    "    \n",
    "    np.random.shuffle(batch_list) # in-place shuffling\n",
    "    \n",
    "    print(\"Feeding order: %s\"  \n",
    "          %(batch_list))  # In case you want to see which samples are given.\n",
    "    \n",
    "    #for step,index in enumerate(batch_list):\n",
    "        ##x_batch_train, y_batch_train = train_dataset.__getitem__(index=index)\n",
    "        #x_batch_train, y_batch_train = DataGeneration(index)\n",
    "        \n",
    "    number_of_minibatches = range(len(batch_list)//bsize)\n",
    "    print(\"Number of minibatches:\",len(number_of_minibatches)) \n",
    "    \n",
    "    for step,index in enumerate(number_of_minibatches):    \n",
    "        indexes = batch_list[index*bsize:(index+1)*bsize]\n",
    "        print(\"minibatch\",step+1,\"=> Files: \",indexes)\n",
    "        for indx in indexes:\n",
    "            X, Y = DataGeneration(indx)\n",
    "        \n",
    "            # Here compute loss and the gradient of weights        \n",
    "            print(\"Forward and backward propagation ...\")\n",
    "            print(\"Optimizing weights.\")    \n",
    "\n",
    "\n",
    "            # Log every some batches.        \n",
    "            if step % 10 == 0:\n",
    "                        print(\n",
    "                        \"Training loss (for one batch) at step %d: %.4f\"\n",
    "                         % (step, float(loss_value)))\n",
    "\n",
    "print(\"Done.\")"
   ]
  },
  {
   "cell_type": "markdown",
   "metadata": {},
   "source": [
    "# Dataset with list files and zip\n",
    "\n",
    "References: [zip][ZIP], [shuffle][SHUFFLE].\n",
    "\n",
    "\n",
    "[SHUFFLE]: https://www.tensorflow.org/api_docs/python/tf/data/Dataset#shuffle\n",
    "[ZIP]: https://www.tensorflow.org/api_docs/python/tf/data/Dataset#zip"
   ]
  },
  {
   "cell_type": "code",
   "execution_count": null,
   "metadata": {},
   "outputs": [],
   "source": [
    "# Mirar esto para más adelante:\n",
    "# Genera Dataset con la lista de archivos y elijo algunos para ver:\n",
    "list_seis  = tf.data.Dataset.list_files(str(\"../data/train/seis/*.dat\"),shuffle=True).batch(1)\n",
    "for file in list_seis.take(1):  # only take one at random from the list\n",
    "    print(file)\n",
    "    print(file.numpy()[0]) # fist element of list\n",
    "    seis_file  = file.numpy()[0]\n",
    "    gx = np.fromfile(seis_file,dtype=np.single)    \n",
    "    gx = np.reshape(gx,(128,128,128))   \n",
    "    vol(gx,cmap=\"bone\")\n",
    "    plt.show()       "
   ]
  },
  {
   "cell_type": "code",
   "execution_count": null,
   "metadata": {},
   "outputs": [],
   "source": [
    "# Make a dataset of files from two directories:\n",
    "list_seis   = tf.data.Dataset.list_files(str(\"../data/train/seis/*.dat\"),shuffle=False).batch(1)\n",
    "list_fault  = tf.data.Dataset.list_files(str(\"../data/train/fault/*.dat\"),shuffle=False).batch(1)\n",
    "dataset     = tf.data.Dataset.zip((list_seis, list_fault))\n",
    "nfile       = len(list_seis)\n",
    "dataset     = dataset.shuffle(buffer_size=nfile, seed=None, reshuffle_each_iteration=None)"
   ]
  },
  {
   "cell_type": "code",
   "execution_count": null,
   "metadata": {},
   "outputs": [],
   "source": [
    "assert len(list_seis) == len(list_fault)"
   ]
  },
  {
   "cell_type": "code",
   "execution_count": null,
   "metadata": {
    "code_folding": [],
    "scrolled": false
   },
   "outputs": [],
   "source": [
    "# Try a loop with some examples:\n",
    "for x,y in dataset.take(3):\n",
    "    print(\"X:\",x.numpy())\n",
    "    print(\"Y:\",y.numpy()) \n",
    "    seis_file  = x.numpy()[0] # fist element of list\n",
    "    fault_file = y.numpy()[0]\n",
    "    X = np.fromfile(seis_file ,dtype=np.single)    \n",
    "    Y = np.fromfile(fault_file,dtype=np.single)\n",
    "    X = np.reshape(X,(128,128,128))   \n",
    "    Y = np.reshape(Y,(128,128,128))\n",
    "    vol(X,cmap=\"gray\");\n",
    "    plt.show()      \n",
    "    vol(Y,cmap=\"bone\");\n",
    "    plt.show()       "
   ]
  },
  {
   "cell_type": "markdown",
   "metadata": {},
   "source": [
    "# Misc.\n",
    "\n",
    "[Reference][pytorch-dataloader]\n",
    "\n",
    "[pytorch-dataloader]: https://pytorch.org/tutorials/intermediate/torchvision_tutorial.html"
   ]
  },
  {
   "cell_type": "code",
   "execution_count": null,
   "metadata": {},
   "outputs": [],
   "source": [
    "import os\n",
    "\n",
    "root=\"../data/train/\"\n",
    "\n",
    "seis_files  = list(sorted(os.listdir(os.path.join(root, \"seis\"))))\n",
    "fault_files = list(sorted(os.listdir(os.path.join(root, \"fault\"))))\n",
    "\n",
    "print(\"Found {} files.\".format(len(seis_files)))\n",
    "print(\"Found {} files.\".format(len(fault_files)))"
   ]
  },
  {
   "cell_type": "code",
   "execution_count": null,
   "metadata": {},
   "outputs": [],
   "source": [
    "np.random.shuffle(seis_files) # in-place shuffling    "
   ]
  },
  {
   "cell_type": "code",
   "execution_count": null,
   "metadata": {},
   "outputs": [],
   "source": [
    "for file in seis_files[:2]: # check first 2\n",
    "    print(file)\n",
    "    path_to_file = root+\"seis/\"+file\n",
    "    print(path_to_file)\n",
    "    print(\"-------\")    \n",
    "    X = np.fromfile(path_to_file ,dtype=np.single)\n",
    "    Y = np.fromfile(root+\"fault/\"+file ,dtype=np.single)\n",
    "    X = np.reshape(X,(128,128,128))\n",
    "    Y = np.reshape(Y,(128,128,128))   \n",
    "    vol(X,cmap=\"gray\");\n",
    "    plt.show()      \n",
    "    vol(Y,cmap=\"gray\");\n",
    "    plt.show()      \n",
    "        "
   ]
  },
  {
   "cell_type": "code",
   "execution_count": null,
   "metadata": {},
   "outputs": [],
   "source": [
    "# files = zip(seis_files,fault_files)\n",
    "# print(list(files))"
   ]
  },
  {
   "cell_type": "code",
   "execution_count": null,
   "metadata": {},
   "outputs": [],
   "source": []
  }
 ],
 "metadata": {
  "kernelspec": {
   "display_name": "Python 3",
   "language": "python",
   "name": "python3"
  },
  "language_info": {
   "codemirror_mode": {
    "name": "ipython",
    "version": 3
   },
   "file_extension": ".py",
   "mimetype": "text/x-python",
   "name": "python",
   "nbconvert_exporter": "python",
   "pygments_lexer": "ipython3",
   "version": "3.9.5"
  }
 },
 "nbformat": 4,
 "nbformat_minor": 4
}
